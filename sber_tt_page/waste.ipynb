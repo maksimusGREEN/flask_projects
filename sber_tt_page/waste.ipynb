{
 "cells": [
  {
   "cell_type": "code",
   "execution_count": 25,
   "metadata": {},
   "outputs": [],
   "source": [
    "from flask import Flask, render_template, request, flash\n",
    "import requests\n",
    "from bs4 import BeautifulSoup\n",
    "import pandas as pd\n",
    "\n",
    "\n",
    "headers = {'user-agent': 'my-agent/1.0.1'}\n",
    "\n",
    "page_link = 'https://rttf.ru/players/'\n",
    "\n",
    "\n",
    "players_list = ['81844', '101970', '54312', '117961', '12499', '50127', '84215', '2418', '79013', '86618', '55733', '23020', '5323', '18041', '14906', '10683', '23499', '6623', '55062']\n",
    "\n",
    "data = []\n",
    "\n",
    "for player in players_list:\n",
    "    page = requests.get(page_link+player, headers=headers)\n",
    "    soup = BeautifulSoup(page.content, \"html.parser\")\n",
    "    name = soup.find(class_='player-info').findAll('h1')[0].contents[0]\n",
    "    rate = soup.find(class_='player-info').findAll('h3')[0].find('dfn').contents[0]\n",
    "    last_tournament = soup.find(class_='player-results').findAll('a', href=True)\n",
    "    last_tournament= [x for x in last_tournament if 'tournaments' in x['href']]\n",
    "    last_tournament = [x.text.split('<var>')[0] for x in last_tournament][0][:10]\n",
    "    data.append([name, rate, last_tournament])\n",
    "\n"
   ]
  },
  {
   "cell_type": "code",
   "execution_count": 38,
   "metadata": {},
   "outputs": [],
   "source": [
    "import numpy as np\n",
    "\n",
    "df = np.array(data)\n",
    "df = np.concatenate([np.arange(1, len(df)+1).reshape(-1,1), df[df[:,-2].argsort()[::-1]]], axis=1)\n",
    "data = df.tolist()\n",
    "\n"
   ]
  },
  {
   "cell_type": "code",
   "execution_count": 39,
   "metadata": {},
   "outputs": [
    {
     "data": {
      "text/plain": [
       "[['1', 'Черноскулов Федор Олегович', '735', '02.10.2023'],\n",
       " ['2', 'Федосеев Игорь Сергеевич', '649', '27.05.2023'],\n",
       " ['3', 'Афанасьев Иван Юрьевич', '620', '02.10.2023'],\n",
       " ['4', 'Хасанов Артем Артурович', '612', '18.12.2022'],\n",
       " ['5', 'Глазов Роман Витальевич', '565', '30.09.2023'],\n",
       " ['6', 'Зиновьев Дмитрий Юрьевич', '543', '21.07.2023'],\n",
       " ['7', 'Дьяченко Денис Александрович', '540', '13.05.2023'],\n",
       " ['8', 'Леонов Никита Юрьевич', '535', '29.09.2023'],\n",
       " ['9', 'Буров Сергей Александрович', '531', '30.09.2023'],\n",
       " ['10', 'Ильин Виталий Сергеевич', '483', '27.05.2023'],\n",
       " ['11', 'Гареев Ринат Рашитович', '449', '01.10.2023'],\n",
       " ['12', 'Булавацкая Гульнара Дмитриевна', '449', '05.07.2023'],\n",
       " ['13', 'Суворов Вадим Викторович', '436', '13.11.2022'],\n",
       " ['14', 'Бочарова Любовь Анатольевна', '427', '15.04.2023'],\n",
       " ['15', 'Трофименков Александр Викторович', '399', '18.09.2023'],\n",
       " ['16', 'Большакова Екатерина Дмитриевна', '384', '03.09.2023'],\n",
       " ['17', 'Семененко Роман Борисович', '335', '01.10.2023'],\n",
       " ['18', 'Калинин Владимир Николаевич', '330', '30.09.2023'],\n",
       " ['19', 'Возненко Алексей Николаевич', '297', '21.05.2023']]"
      ]
     },
     "execution_count": 39,
     "metadata": {},
     "output_type": "execute_result"
    }
   ],
   "source": [
    "data"
   ]
  }
 ],
 "metadata": {
  "kernelspec": {
   "display_name": "env2",
   "language": "python",
   "name": "python3"
  },
  "language_info": {
   "codemirror_mode": {
    "name": "ipython",
    "version": 3
   },
   "file_extension": ".py",
   "mimetype": "text/x-python",
   "name": "python",
   "nbconvert_exporter": "python",
   "pygments_lexer": "ipython3",
   "version": "3.11.5"
  },
  "orig_nbformat": 4
 },
 "nbformat": 4,
 "nbformat_minor": 2
}
